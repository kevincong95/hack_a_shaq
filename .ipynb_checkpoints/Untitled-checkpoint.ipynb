{
 "cells": [
  {
   "cell_type": "code",
   "execution_count": 1,
   "metadata": {
    "collapsed": true
   },
   "outputs": [],
   "source": [
    "import foul_charts as charts\n",
    "import play_utils as utils\n",
    "import play_by_play as pbp\n",
    "import nbawebstats as nbaws\n",
    "import numpy as np\n",
    "import matplotlib.pyplot as plt\n",
    "import csv\n",
    "%matplotlib inline"
   ]
  },
  {
   "cell_type": "code",
   "execution_count": 2,
   "metadata": {
    "collapsed": true
   },
   "outputs": [],
   "source": [
    "drum_log = charts.game_log(203083, 2015)"
   ]
  },
  {
   "cell_type": "code",
   "execution_count": 3,
   "metadata": {
    "collapsed": true
   },
   "outputs": [],
   "source": [
    "foul_log = [charts.foul_times(203083, gameid) for gameid in drum_log]"
   ]
  },
  {
   "cell_type": "code",
   "execution_count": 4,
   "metadata": {
    "collapsed": true
   },
   "outputs": [],
   "source": [
    "def write_foul_times(playerid, season):\n",
    "    game_log = sorted(charts.game_log(playerid, season))\n",
    "    secs_by_game = [charts.secs_in_game(gameid) for gameid in game_log]\n",
    "    headers = [\"Interval length\", \"Margin\", \"Fouls committed\"]\n",
    "    name = utils.player_name(playerid)\n",
    "    with open(\"{0}_foul_times.csv\".format(name), 'w') as csvfile:\n",
    "        foulwriter = csv.writer(csvfile)\n",
    "        foulwriter.writerow(headers)\n",
    "        for i in range(len(game_log)):\n",
    "            fouls = charts.foul_times(playerid, game_log[i])\n",
    "            secs = secs_by_game[i]\n",
    "            foul_times = []\n",
    "            for j in range(len(fouls.index)):\n",
    "                foul_times.append(charts.secs_elapsed(fouls['PERIOD'][j], fouls['PCTIMESTRING'][j]))\n",
    "            fouled_out = len(fouls) == 6\n",
    "            before = [0] + fouls[:-1] if fouled_out else [0] + fouls\n",
    "            after = fouls if fouled_out else fouls + [secs]\n",
    "            diffs = np.array(after) - np.array(before)\n",
    "            for i in range(len(diffs)):\n",
    "                foul_committed = 0 if i == len(diffs) - 1 and not fouled_out else 1\n",
    "                foulwriter.writerow([diffs[i], foul_committed])  "
   ]
  },
  {
   "cell_type": "code",
   "execution_count": 5,
   "metadata": {
    "collapsed": true
   },
   "outputs": [],
   "source": [
    "def baskets(gameid):\n",
    "    log = pbp.load_pbp(gameid).fillna(\"\")\n",
    "    log.replace('TIE', 0)\n",
    "    baskets = log.query('SCOREMARGIN != \"\"')[['INDEX', 'SCOREMARGIN']]\n",
    "    return baskets"
   ]
  },
  {
   "cell_type": "code",
   "execution_count": 6,
   "metadata": {
    "collapsed": true
   },
   "outputs": [],
   "source": [
    "def margins_when_fouling(playerid, season):\n",
    "    game_log = sorted(charts.game_log(playerid, season))\n",
    "    margins = []\n",
    "    for i in range(len(game_log)):\n",
    "        fouls = charts.foul_times(playerid, game_log[i])\n",
    "        indices = fouls['EVENTNUM'].tolist()\n",
    "        margins_in_game = []\n",
    "        for index in indices:\n",
    "            before = fouls[fouls['EVENTNUM'] < index]['EVENTNUM']\n",
    "            margins_in_game.append(before.tolist[-1])\n",
    "        margins.append(margins_in_game)\n",
    "    return margins"
   ]
  },
  {
   "cell_type": "code",
   "execution_count": null,
   "metadata": {
    "collapsed": true
   },
   "outputs": [],
   "source": []
  }
 ],
 "metadata": {
  "kernelspec": {
   "display_name": "Python 3",
   "language": "python",
   "name": "python3"
  },
  "language_info": {
   "codemirror_mode": {
    "name": "ipython",
    "version": 3
   },
   "file_extension": ".py",
   "mimetype": "text/x-python",
   "name": "python",
   "nbconvert_exporter": "python",
   "pygments_lexer": "ipython3",
   "version": "3.4.5"
  }
 },
 "nbformat": 4,
 "nbformat_minor": 0
}
