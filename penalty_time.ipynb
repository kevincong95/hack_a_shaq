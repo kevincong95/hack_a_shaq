{
 "cells": [
  {
   "cell_type": "code",
   "execution_count": 19,
   "metadata": {
    "collapsed": true
   },
   "outputs": [],
   "source": [
    "import pandas as pd\n",
    "import play_by_play as pbp\n",
    "import play_utils as utils\n",
    "import csv"
   ]
  },
  {
   "cell_type": "code",
   "execution_count": 14,
   "metadata": {
    "collapsed": true
   },
   "outputs": [],
   "source": [
    "criticalGames = pd.DataFrame.from_csv(\"criticalGames.csv\")\n",
    "criticalGames = criticalGames.fillna(value = \"\")"
   ]
  },
  {
   "cell_type": "code",
   "execution_count": 15,
   "metadata": {
    "collapsed": false,
    "scrolled": true
   },
   "outputs": [],
   "source": [
    "hax0rs = [\"ATL\", \"BOS\", \"DAL\", \"GSW\", \"HOU\", \"LAC\", \"OKC\", \"POR\", \"SAC\", \"SAS\"]"
   ]
  },
  {
   "cell_type": "code",
   "execution_count": 16,
   "metadata": {
    "collapsed": true
   },
   "outputs": [],
   "source": [
    "def avg_ptime_quarter_hacking(team, quarter):\n",
    "    instances = criticalGames[criticalGames[\"Team\"] == team]\n",
    "    affectedGames = instances['GameID'].unique()\n",
    "    ptime = 0\n",
    "    for gameID in affectedGames:\n",
    "        ptime += pbp.penalty_time(str(gameID), team, quarter)\n",
    "    return ptime / len(affectedGames)\n",
    "    "
   ]
  },
  {
   "cell_type": "code",
   "execution_count": 17,
   "metadata": {
    "collapsed": true
   },
   "outputs": [],
   "source": [
    "def avg_ptime_game_hacking(team):\n",
    "    instances = criticalGames[criticalGames[\"Team\"] == team]\n",
    "    affectedGames = instances['GameID'].unique()\n",
    "    ptime = 0\n",
    "    for gameID in affectedGames:\n",
    "        for quarter in range(1,5):\n",
    "            ptime += pbp.penalty_time(str(gameID), team, quarter)\n",
    "    return ptime / len(affectedGames)\n",
    "    "
   ]
  },
  {
   "cell_type": "code",
   "execution_count": 20,
   "metadata": {
    "collapsed": false
   },
   "outputs": [
    {
     "name": "stdout",
     "output_type": "stream",
     "text": [
      "ATL 477.2857142857143\n",
      "BOS 516.2352941176471\n",
      "DAL 528.3846153846154\n",
      "GSW 636.8823529411765\n",
      "HOU 750.4\n",
      "LAC 742.9333333333333\n",
      "OKC 572.5\n",
      "POR 440.8181818181818\n",
      "SAC 455.26666666666665\n",
      "SAS 550.6666666666666\n"
     ]
    }
   ],
   "source": [
    "for team in hax0rs:\n",
    "    print(team +\" \" + str(avg_ptime_game_hacking(team)))"
   ]
  },
  {
   "cell_type": "code",
   "execution_count": 21,
   "metadata": {
    "collapsed": false
   },
   "outputs": [
    {
     "name": "stdout",
     "output_type": "stream",
     "text": [
      "ATL 160.85714285714286\n",
      "BOS 149.0\n",
      "DAL 166.34615384615384\n",
      "GSW 148.88235294117646\n",
      "HOU 239.6\n",
      "LAC 268.26666666666665\n",
      "OKC 160.57142857142858\n",
      "POR 175.86363636363637\n",
      "SAC 140.4\n",
      "SAS 235.5\n"
     ]
    }
   ],
   "source": [
    "for team in hax0rs:\n",
    "    print(team +\" \" + str(avg_ptime_quarter_hacking(team, 4)))"
   ]
  },
  {
   "cell_type": "code",
   "execution_count": 22,
   "metadata": {
    "collapsed": true
   },
   "outputs": [],
   "source": [
    "headers = [\"Team\", \"Q1\", \"Q2\", \"Q3\", \"Q4\", \"Total\"]"
   ]
  },
  {
   "cell_type": "code",
   "execution_count": 23,
   "metadata": {
    "collapsed": false,
    "scrolled": true
   },
   "outputs": [],
   "source": [
    "with open(\"penaltyTime.csv\", 'w') as csvfile:\n",
    "    writer = csv.DictWriter(csvfile, headers)\n",
    "    writer.writeheader()\n",
    "    for team in hax0rs:\n",
    "        writer.writerow({\"Team\": team, \"Q1\": avg_ptime_quarter_hacking(team, 1),\n",
    "                        \"Q2\": avg_ptime_quarter_hacking(team, 2), \"Q3\": avg_ptime_quarter_hacking(team, 3),\n",
    "                        \"Q4\": avg_ptime_quarter_hacking(team, 4), \"Total\": avg_ptime_game_hacking(team)})"
   ]
  },
  {
   "cell_type": "code",
   "execution_count": null,
   "metadata": {
    "collapsed": true
   },
   "outputs": [],
   "source": []
  }
 ],
 "metadata": {
  "kernelspec": {
   "display_name": "Python 3",
   "language": "python",
   "name": "python3"
  },
  "language_info": {
   "codemirror_mode": {
    "name": "ipython",
    "version": 3
   },
   "file_extension": ".py",
   "mimetype": "text/x-python",
   "name": "python",
   "nbconvert_exporter": "python",
   "pygments_lexer": "ipython3",
   "version": "3.4.5"
  }
 },
 "nbformat": 4,
 "nbformat_minor": 0
}
